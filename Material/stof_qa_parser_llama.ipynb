{
 "cells": [
  {
   "cell_type": "code",
   "execution_count": 1,
   "metadata": {},
   "outputs": [
    {
     "name": "stdout",
     "output_type": "stream",
     "text": [
      "Requirement already satisfied: llama_index in /opt/anaconda3/lib/python3.12/site-packages (0.11.23)\n",
      "Requirement already satisfied: llama-index-readers-web in /opt/anaconda3/lib/python3.12/site-packages (0.2.4)\n",
      "Requirement already satisfied: html2text in /opt/anaconda3/lib/python3.12/site-packages (2024.2.26)\n",
      "Requirement already satisfied: Ipython in /opt/anaconda3/lib/python3.12/site-packages (8.25.0)\n",
      "Requirement already satisfied: llama-index-agent-openai<0.4.0,>=0.3.4 in /opt/anaconda3/lib/python3.12/site-packages (from llama_index) (0.3.4)\n",
      "Requirement already satisfied: llama-index-cli<0.4.0,>=0.3.1 in /opt/anaconda3/lib/python3.12/site-packages (from llama_index) (0.3.1)\n",
      "Requirement already satisfied: llama-index-core<0.12.0,>=0.11.23 in /opt/anaconda3/lib/python3.12/site-packages (from llama_index) (0.11.23)\n",
      "Requirement already satisfied: llama-index-embeddings-openai<0.3.0,>=0.2.4 in /opt/anaconda3/lib/python3.12/site-packages (from llama_index) (0.2.5)\n",
      "Requirement already satisfied: llama-index-indices-managed-llama-cloud>=0.3.0 in /opt/anaconda3/lib/python3.12/site-packages (from llama_index) (0.4.0)\n",
      "Requirement already satisfied: llama-index-legacy<0.10.0,>=0.9.48 in /opt/anaconda3/lib/python3.12/site-packages (from llama_index) (0.9.48.post4)\n",
      "Requirement already satisfied: llama-index-llms-openai<0.3.0,>=0.2.10 in /opt/anaconda3/lib/python3.12/site-packages (from llama_index) (0.2.16)\n",
      "Requirement already satisfied: llama-index-multi-modal-llms-openai<0.3.0,>=0.2.0 in /opt/anaconda3/lib/python3.12/site-packages (from llama_index) (0.2.3)\n",
      "Requirement already satisfied: llama-index-program-openai<0.3.0,>=0.2.0 in /opt/anaconda3/lib/python3.12/site-packages (from llama_index) (0.2.0)\n",
      "Requirement already satisfied: llama-index-question-gen-openai<0.3.0,>=0.2.0 in /opt/anaconda3/lib/python3.12/site-packages (from llama_index) (0.2.0)\n",
      "Requirement already satisfied: llama-index-readers-file<0.4.0,>=0.3.0 in /opt/anaconda3/lib/python3.12/site-packages (from llama_index) (0.3.0)\n",
      "Requirement already satisfied: llama-index-readers-llama-parse>=0.3.0 in /opt/anaconda3/lib/python3.12/site-packages (from llama_index) (0.3.0)\n",
      "Requirement already satisfied: nltk>3.8.1 in /opt/anaconda3/lib/python3.12/site-packages (from llama_index) (3.9.1)\n",
      "Requirement already satisfied: aiohttp<4.0.0,>=3.9.1 in /opt/anaconda3/lib/python3.12/site-packages (from llama-index-readers-web) (3.9.5)\n",
      "Requirement already satisfied: beautifulsoup4<5.0.0,>=4.12.3 in /opt/anaconda3/lib/python3.12/site-packages (from llama-index-readers-web) (4.12.3)\n",
      "Requirement already satisfied: chromedriver-autoinstaller<0.7.0,>=0.6.3 in /opt/anaconda3/lib/python3.12/site-packages (from llama-index-readers-web) (0.6.4)\n",
      "Requirement already satisfied: newspaper3k<0.3.0,>=0.2.8 in /opt/anaconda3/lib/python3.12/site-packages (from llama-index-readers-web) (0.2.8)\n",
      "Requirement already satisfied: playwright<2.0,>=1.30 in /opt/anaconda3/lib/python3.12/site-packages (from llama-index-readers-web) (1.48.0)\n",
      "Requirement already satisfied: requests<3.0.0,>=2.31.0 in /opt/anaconda3/lib/python3.12/site-packages (from llama-index-readers-web) (2.32.3)\n",
      "Requirement already satisfied: selenium<5.0.0,>=4.17.2 in /opt/anaconda3/lib/python3.12/site-packages (from llama-index-readers-web) (4.26.1)\n",
      "Requirement already satisfied: spider-client<0.0.28,>=0.0.27 in /opt/anaconda3/lib/python3.12/site-packages (from llama-index-readers-web) (0.0.27)\n",
      "Requirement already satisfied: urllib3>=1.1.0 in /opt/anaconda3/lib/python3.12/site-packages (from llama-index-readers-web) (2.2.2)\n",
      "Requirement already satisfied: decorator in /opt/anaconda3/lib/python3.12/site-packages (from Ipython) (5.1.1)\n",
      "Requirement already satisfied: jedi>=0.16 in /opt/anaconda3/lib/python3.12/site-packages (from Ipython) (0.18.1)\n",
      "Requirement already satisfied: matplotlib-inline in /opt/anaconda3/lib/python3.12/site-packages (from Ipython) (0.1.6)\n",
      "Requirement already satisfied: prompt-toolkit<3.1.0,>=3.0.41 in /opt/anaconda3/lib/python3.12/site-packages (from Ipython) (3.0.43)\n",
      "Requirement already satisfied: pygments>=2.4.0 in /opt/anaconda3/lib/python3.12/site-packages (from Ipython) (2.15.1)\n",
      "Requirement already satisfied: stack-data in /opt/anaconda3/lib/python3.12/site-packages (from Ipython) (0.2.0)\n",
      "Requirement already satisfied: traitlets>=5.13.0 in /opt/anaconda3/lib/python3.12/site-packages (from Ipython) (5.14.3)\n",
      "Requirement already satisfied: pexpect>4.3 in /opt/anaconda3/lib/python3.12/site-packages (from Ipython) (4.8.0)\n",
      "Requirement already satisfied: aiosignal>=1.1.2 in /opt/anaconda3/lib/python3.12/site-packages (from aiohttp<4.0.0,>=3.9.1->llama-index-readers-web) (1.2.0)\n",
      "Requirement already satisfied: attrs>=17.3.0 in /opt/anaconda3/lib/python3.12/site-packages (from aiohttp<4.0.0,>=3.9.1->llama-index-readers-web) (24.2.0)\n",
      "Requirement already satisfied: frozenlist>=1.1.1 in /opt/anaconda3/lib/python3.12/site-packages (from aiohttp<4.0.0,>=3.9.1->llama-index-readers-web) (1.4.0)\n",
      "Requirement already satisfied: multidict<7.0,>=4.5 in /opt/anaconda3/lib/python3.12/site-packages (from aiohttp<4.0.0,>=3.9.1->llama-index-readers-web) (6.0.4)\n",
      "Requirement already satisfied: yarl<2.0,>=1.0 in /opt/anaconda3/lib/python3.12/site-packages (from aiohttp<4.0.0,>=3.9.1->llama-index-readers-web) (1.9.3)\n",
      "Requirement already satisfied: soupsieve>1.2 in /opt/anaconda3/lib/python3.12/site-packages (from beautifulsoup4<5.0.0,>=4.12.3->llama-index-readers-web) (2.5)\n",
      "Requirement already satisfied: packaging>=23.1 in /opt/anaconda3/lib/python3.12/site-packages (from chromedriver-autoinstaller<0.7.0,>=0.6.3->llama-index-readers-web) (23.2)\n",
      "Requirement already satisfied: parso<0.9.0,>=0.8.0 in /opt/anaconda3/lib/python3.12/site-packages (from jedi>=0.16->Ipython) (0.8.3)\n",
      "Requirement already satisfied: openai>=1.14.0 in /opt/anaconda3/lib/python3.12/site-packages (from llama-index-agent-openai<0.4.0,>=0.3.4->llama_index) (1.52.0)\n",
      "Requirement already satisfied: PyYAML>=6.0.1 in /opt/anaconda3/lib/python3.12/site-packages (from llama-index-core<0.12.0,>=0.11.23->llama_index) (6.0.1)\n",
      "Requirement already satisfied: SQLAlchemy>=1.4.49 in /opt/anaconda3/lib/python3.12/site-packages (from SQLAlchemy[asyncio]>=1.4.49->llama-index-core<0.12.0,>=0.11.23->llama_index) (2.0.30)\n",
      "Requirement already satisfied: dataclasses-json in /opt/anaconda3/lib/python3.12/site-packages (from llama-index-core<0.12.0,>=0.11.23->llama_index) (0.6.7)\n",
      "Requirement already satisfied: deprecated>=1.2.9.3 in /opt/anaconda3/lib/python3.12/site-packages (from llama-index-core<0.12.0,>=0.11.23->llama_index) (1.2.14)\n",
      "Requirement already satisfied: dirtyjson<2.0.0,>=1.0.8 in /opt/anaconda3/lib/python3.12/site-packages (from llama-index-core<0.12.0,>=0.11.23->llama_index) (1.0.8)\n",
      "Requirement already satisfied: filetype<2.0.0,>=1.2.0 in /opt/anaconda3/lib/python3.12/site-packages (from llama-index-core<0.12.0,>=0.11.23->llama_index) (1.2.0)\n",
      "Requirement already satisfied: fsspec>=2023.5.0 in /opt/anaconda3/lib/python3.12/site-packages (from llama-index-core<0.12.0,>=0.11.23->llama_index) (2024.3.1)\n",
      "Requirement already satisfied: httpx in /opt/anaconda3/lib/python3.12/site-packages (from llama-index-core<0.12.0,>=0.11.23->llama_index) (0.27.2)\n",
      "Requirement already satisfied: nest-asyncio<2.0.0,>=1.5.8 in /opt/anaconda3/lib/python3.12/site-packages (from llama-index-core<0.12.0,>=0.11.23->llama_index) (1.6.0)\n",
      "Requirement already satisfied: networkx>=3.0 in /opt/anaconda3/lib/python3.12/site-packages (from llama-index-core<0.12.0,>=0.11.23->llama_index) (3.2.1)\n",
      "Requirement already satisfied: numpy<2.0.0 in /opt/anaconda3/lib/python3.12/site-packages (from llama-index-core<0.12.0,>=0.11.23->llama_index) (1.26.4)\n",
      "Requirement already satisfied: pillow>=9.0.0 in /opt/anaconda3/lib/python3.12/site-packages (from llama-index-core<0.12.0,>=0.11.23->llama_index) (10.3.0)\n",
      "Requirement already satisfied: pydantic<3.0.0,>=2.7.0 in /opt/anaconda3/lib/python3.12/site-packages (from llama-index-core<0.12.0,>=0.11.23->llama_index) (2.9.2)\n",
      "Requirement already satisfied: tenacity!=8.4.0,<9.0.0,>=8.2.0 in /opt/anaconda3/lib/python3.12/site-packages (from llama-index-core<0.12.0,>=0.11.23->llama_index) (8.2.2)\n",
      "Requirement already satisfied: tiktoken>=0.3.3 in /opt/anaconda3/lib/python3.12/site-packages (from llama-index-core<0.12.0,>=0.11.23->llama_index) (0.8.0)\n",
      "Requirement already satisfied: tqdm<5.0.0,>=4.66.1 in /opt/anaconda3/lib/python3.12/site-packages (from llama-index-core<0.12.0,>=0.11.23->llama_index) (4.66.4)\n",
      "Requirement already satisfied: typing-extensions>=4.5.0 in /opt/anaconda3/lib/python3.12/site-packages (from llama-index-core<0.12.0,>=0.11.23->llama_index) (4.11.0)\n",
      "Requirement already satisfied: typing-inspect>=0.8.0 in /opt/anaconda3/lib/python3.12/site-packages (from llama-index-core<0.12.0,>=0.11.23->llama_index) (0.9.0)\n",
      "Requirement already satisfied: wrapt in /opt/anaconda3/lib/python3.12/site-packages (from llama-index-core<0.12.0,>=0.11.23->llama_index) (1.14.1)\n",
      "Requirement already satisfied: llama-cloud>=0.0.11 in /opt/anaconda3/lib/python3.12/site-packages (from llama-index-indices-managed-llama-cloud>=0.3.0->llama_index) (0.1.4)\n",
      "Requirement already satisfied: pandas in /opt/anaconda3/lib/python3.12/site-packages (from llama-index-legacy<0.10.0,>=0.9.48->llama_index) (2.2.2)\n",
      "Requirement already satisfied: pypdf<6.0.0,>=5.1.0 in /opt/anaconda3/lib/python3.12/site-packages (from llama-index-readers-file<0.4.0,>=0.3.0->llama_index) (5.1.0)\n",
      "Requirement already satisfied: striprtf<0.0.27,>=0.0.26 in /opt/anaconda3/lib/python3.12/site-packages (from llama-index-readers-file<0.4.0,>=0.3.0->llama_index) (0.0.26)\n",
      "Requirement already satisfied: llama-parse>=0.5.0 in /opt/anaconda3/lib/python3.12/site-packages (from llama-index-readers-llama-parse>=0.3.0->llama_index) (0.5.13)\n",
      "Requirement already satisfied: cssselect>=0.9.2 in /opt/anaconda3/lib/python3.12/site-packages (from newspaper3k<0.3.0,>=0.2.8->llama-index-readers-web) (1.2.0)\n",
      "Requirement already satisfied: lxml>=3.6.0 in /opt/anaconda3/lib/python3.12/site-packages (from newspaper3k<0.3.0,>=0.2.8->llama-index-readers-web) (4.9.4)\n",
      "Requirement already satisfied: feedparser>=5.2.1 in /opt/anaconda3/lib/python3.12/site-packages (from newspaper3k<0.3.0,>=0.2.8->llama-index-readers-web) (6.0.11)\n",
      "Requirement already satisfied: tldextract>=2.0.1 in /opt/anaconda3/lib/python3.12/site-packages (from newspaper3k<0.3.0,>=0.2.8->llama-index-readers-web) (3.2.0)\n",
      "Requirement already satisfied: feedfinder2>=0.0.4 in /opt/anaconda3/lib/python3.12/site-packages (from newspaper3k<0.3.0,>=0.2.8->llama-index-readers-web) (0.0.4)\n",
      "Requirement already satisfied: jieba3k>=0.35.1 in /opt/anaconda3/lib/python3.12/site-packages (from newspaper3k<0.3.0,>=0.2.8->llama-index-readers-web) (0.35.1)\n",
      "Requirement already satisfied: python-dateutil>=2.5.3 in /opt/anaconda3/lib/python3.12/site-packages (from newspaper3k<0.3.0,>=0.2.8->llama-index-readers-web) (2.9.0.post0)\n",
      "Requirement already satisfied: tinysegmenter==0.3 in /opt/anaconda3/lib/python3.12/site-packages (from newspaper3k<0.3.0,>=0.2.8->llama-index-readers-web) (0.3)\n",
      "Requirement already satisfied: click in /opt/anaconda3/lib/python3.12/site-packages (from nltk>3.8.1->llama_index) (8.1.7)\n",
      "Requirement already satisfied: joblib in /opt/anaconda3/lib/python3.12/site-packages (from nltk>3.8.1->llama_index) (1.4.2)\n",
      "Requirement already satisfied: regex>=2021.8.3 in /opt/anaconda3/lib/python3.12/site-packages (from nltk>3.8.1->llama_index) (2023.10.3)\n",
      "Requirement already satisfied: ptyprocess>=0.5 in /opt/anaconda3/lib/python3.12/site-packages (from pexpect>4.3->Ipython) (0.7.0)\n",
      "Requirement already satisfied: greenlet==3.1.1 in /opt/anaconda3/lib/python3.12/site-packages (from playwright<2.0,>=1.30->llama-index-readers-web) (3.1.1)\n",
      "Requirement already satisfied: pyee==12.0.0 in /opt/anaconda3/lib/python3.12/site-packages (from playwright<2.0,>=1.30->llama-index-readers-web) (12.0.0)\n",
      "Requirement already satisfied: wcwidth in /opt/anaconda3/lib/python3.12/site-packages (from prompt-toolkit<3.1.0,>=3.0.41->Ipython) (0.2.5)\n",
      "Requirement already satisfied: charset-normalizer<4,>=2 in /opt/anaconda3/lib/python3.12/site-packages (from requests<3.0.0,>=2.31.0->llama-index-readers-web) (2.0.4)\n",
      "Requirement already satisfied: idna<4,>=2.5 in /opt/anaconda3/lib/python3.12/site-packages (from requests<3.0.0,>=2.31.0->llama-index-readers-web) (3.7)\n",
      "Requirement already satisfied: certifi>=2017.4.17 in /opt/anaconda3/lib/python3.12/site-packages (from requests<3.0.0,>=2.31.0->llama-index-readers-web) (2024.8.30)\n",
      "Requirement already satisfied: trio~=0.17 in /opt/anaconda3/lib/python3.12/site-packages (from selenium<5.0.0,>=4.17.2->llama-index-readers-web) (0.27.0)\n",
      "Requirement already satisfied: trio-websocket~=0.9 in /opt/anaconda3/lib/python3.12/site-packages (from selenium<5.0.0,>=4.17.2->llama-index-readers-web) (0.11.1)\n",
      "Requirement already satisfied: websocket-client~=1.8 in /opt/anaconda3/lib/python3.12/site-packages (from selenium<5.0.0,>=4.17.2->llama-index-readers-web) (1.8.0)\n",
      "Requirement already satisfied: executing in /opt/anaconda3/lib/python3.12/site-packages (from stack-data->Ipython) (0.8.3)\n",
      "Requirement already satisfied: asttokens in /opt/anaconda3/lib/python3.12/site-packages (from stack-data->Ipython) (2.0.5)\n",
      "Requirement already satisfied: pure-eval in /opt/anaconda3/lib/python3.12/site-packages (from stack-data->Ipython) (0.2.2)\n",
      "Requirement already satisfied: six in /opt/anaconda3/lib/python3.12/site-packages (from feedfinder2>=0.0.4->newspaper3k<0.3.0,>=0.2.8->llama-index-readers-web) (1.16.0)\n",
      "Requirement already satisfied: sgmllib3k in /opt/anaconda3/lib/python3.12/site-packages (from feedparser>=5.2.1->newspaper3k<0.3.0,>=0.2.8->llama-index-readers-web) (1.0.0)\n",
      "Requirement already satisfied: anyio in /opt/anaconda3/lib/python3.12/site-packages (from httpx->llama-index-core<0.12.0,>=0.11.23->llama_index) (4.2.0)\n",
      "Requirement already satisfied: httpcore==1.* in /opt/anaconda3/lib/python3.12/site-packages (from httpx->llama-index-core<0.12.0,>=0.11.23->llama_index) (1.0.6)\n",
      "Requirement already satisfied: sniffio in /opt/anaconda3/lib/python3.12/site-packages (from httpx->llama-index-core<0.12.0,>=0.11.23->llama_index) (1.3.0)\n",
      "Requirement already satisfied: h11<0.15,>=0.13 in /opt/anaconda3/lib/python3.12/site-packages (from httpcore==1.*->httpx->llama-index-core<0.12.0,>=0.11.23->llama_index) (0.14.0)\n",
      "Requirement already satisfied: distro<2,>=1.7.0 in /opt/anaconda3/lib/python3.12/site-packages (from openai>=1.14.0->llama-index-agent-openai<0.4.0,>=0.3.4->llama_index) (1.9.0)\n",
      "Requirement already satisfied: jiter<1,>=0.4.0 in /opt/anaconda3/lib/python3.12/site-packages (from openai>=1.14.0->llama-index-agent-openai<0.4.0,>=0.3.4->llama_index) (0.6.1)\n",
      "Requirement already satisfied: annotated-types>=0.6.0 in /opt/anaconda3/lib/python3.12/site-packages (from pydantic<3.0.0,>=2.7.0->llama-index-core<0.12.0,>=0.11.23->llama_index) (0.6.0)\n",
      "Requirement already satisfied: pydantic-core==2.23.4 in /opt/anaconda3/lib/python3.12/site-packages (from pydantic<3.0.0,>=2.7.0->llama-index-core<0.12.0,>=0.11.23->llama_index) (2.23.4)\n",
      "Requirement already satisfied: requests-file>=1.4 in /opt/anaconda3/lib/python3.12/site-packages (from tldextract>=2.0.1->newspaper3k<0.3.0,>=0.2.8->llama-index-readers-web) (1.5.1)\n",
      "Requirement already satisfied: filelock>=3.0.8 in /opt/anaconda3/lib/python3.12/site-packages (from tldextract>=2.0.1->newspaper3k<0.3.0,>=0.2.8->llama-index-readers-web) (3.13.1)\n",
      "Requirement already satisfied: sortedcontainers in /opt/anaconda3/lib/python3.12/site-packages (from trio~=0.17->selenium<5.0.0,>=4.17.2->llama-index-readers-web) (2.4.0)\n",
      "Requirement already satisfied: outcome in /opt/anaconda3/lib/python3.12/site-packages (from trio~=0.17->selenium<5.0.0,>=4.17.2->llama-index-readers-web) (1.3.0.post0)\n",
      "Requirement already satisfied: wsproto>=0.14 in /opt/anaconda3/lib/python3.12/site-packages (from trio-websocket~=0.9->selenium<5.0.0,>=4.17.2->llama-index-readers-web) (1.2.0)\n",
      "Requirement already satisfied: mypy-extensions>=0.3.0 in /opt/anaconda3/lib/python3.12/site-packages (from typing-inspect>=0.8.0->llama-index-core<0.12.0,>=0.11.23->llama_index) (1.0.0)\n",
      "Requirement already satisfied: pysocks!=1.5.7,<2.0,>=1.5.6 in /opt/anaconda3/lib/python3.12/site-packages (from urllib3[socks]<3,>=1.26->selenium<5.0.0,>=4.17.2->llama-index-readers-web) (1.7.1)\n",
      "Requirement already satisfied: marshmallow<4.0.0,>=3.18.0 in /opt/anaconda3/lib/python3.12/site-packages (from dataclasses-json->llama-index-core<0.12.0,>=0.11.23->llama_index) (3.23.0)\n",
      "Requirement already satisfied: pytz>=2020.1 in /opt/anaconda3/lib/python3.12/site-packages (from pandas->llama-index-legacy<0.10.0,>=0.9.48->llama_index) (2024.1)\n",
      "Requirement already satisfied: tzdata>=2022.7 in /opt/anaconda3/lib/python3.12/site-packages (from pandas->llama-index-legacy<0.10.0,>=0.9.48->llama_index) (2023.3)\n",
      "Note: you may need to restart the kernel to use updated packages.\n"
     ]
    }
   ],
   "source": [
    "%pip install llama_index llama-index-readers-web html2text Ipython"
   ]
  },
  {
   "cell_type": "code",
   "execution_count": 30,
   "metadata": {},
   "outputs": [
    {
     "name": "stdout",
     "output_type": "stream",
     "text": [
      "env: OPENAI_API_KEY=xyz\n"
     ]
    }
   ],
   "source": [
    "%env OPENAI_API_KEY=xyz"
   ]
  },
  {
   "cell_type": "code",
   "execution_count": 2,
   "metadata": {
    "vscode": {
     "languageId": "plaintext"
    }
   },
   "outputs": [],
   "source": [
    "from llama_index.core import SummaryIndex\n",
    "from llama_index.readers.web import SimpleWebPageReader\n",
    "from IPython.display import Markdown, display\n",
    "import os"
   ]
  },
  {
   "cell_type": "code",
   "execution_count": 3,
   "metadata": {},
   "outputs": [],
   "source": [
    "documents = SimpleWebPageReader(html_to_text=True).load_data(\n",
    "    [\"https://stackoverflow.com/questions/57970896/pod-limit-on-node-aws-eks\"]\n",
    ")"
   ]
  },
  {
   "cell_type": "code",
   "execution_count": 4,
   "metadata": {},
   "outputs": [],
   "source": [
    "summary_index=SummaryIndex.from_documents(documents)\n",
    "\n",
    "summary_query_engine = summary_index.as_query_engine(\n",
    "    response_mode=\"tree_summarize\",\n",
    "    use_async=False,\n",
    ")"
   ]
  },
  {
   "cell_type": "code",
   "execution_count": 5,
   "metadata": {},
   "outputs": [
    {
     "name": "stdout",
     "output_type": "stream",
     "text": [
      "Query: Understanding the limitation faced when adding a deployment with 17 replicas to a small AWS EKS cluster with 2 nodes of type t3.small.\n",
      "\n",
      "Answer: The limitation faced when adding a deployment with 17 replicas to a small AWS EKS cluster with 2 nodes of type t3.small is due to the maximum number of pods allowed per instance. According to the AWS Labs document, t3.small instances have a maximum pod limit of 11 pods per instance. This means that with 2 t3.small nodes, the total maximum number of pods that can be created in the cluster is 22 (11 pods per node). Attempting to deploy 17 replicas of a deployment would exceed this limit, resulting in the limitation faced in pod creation.\n",
      "\n",
      "Reference:\n",
      "- [AWS Labs Document](https://github.com/awslabs/amazon-eks-ami/blob/main/templates/shared/runtime/eni-max-pods.txt)\n"
     ]
    }
   ],
   "source": [
    "response = summary_query_engine.query(\"From the given document, first summarize the question and then the answer with green checkmark, include reference to external resources.\")\n",
    "print(response)"
   ]
  },
  {
   "cell_type": "code",
   "execution_count": 6,
   "metadata": {},
   "outputs": [
    {
     "name": "stdout",
     "output_type": "stream",
     "text": [
      "[Document(id_='https://stackoverflow.com/questions/57970896/pod-limit-on-node-aws-eks', embedding=None, metadata={}, excluded_embed_metadata_keys=[], excluded_llm_metadata_keys=[], relationships={}, text='Skip to main content\\n\\n[ Stack Overflow ](https://stackoverflow.com)\\n\\n  1. [About](https://stackoverflow.co/)\\n  2. Products \\n  3. [OverflowAI](https://stackoverflow.co/teams/ai/?utm_medium=referral&utm_source=stackoverflow-community&utm_campaign=top-nav-bar&utm_content=overflowai)\\n\\n  1. [ Stack Overflow for Teams Where developers & technologists share private knowledge with coworkers ](https://stackoverflow.co/teams/?utm_medium=referral&utm_source=stackoverflow-community&utm_campaign=top-nav&utm_content=stack-overflow-for-teams)\\n  2. [ Advertising & Talent Reach devs & technologists worldwide about your product, service or employer brand ](https://stackoverflow.co/advertising/?utm_medium=referral&utm_source=stackoverflow-community&utm_campaign=top-nav&utm_content=stack-overflow-advertising)\\n  3. [ OverflowAI GenAI features for Teams ](https://stackoverflow.co/teams/ai/?utm_medium=referral&utm_source=stackoverflow-community&utm_campaign=top-nav&utm_content=overflow-ai)\\n  4. [ OverflowAPI Train & fine-tune LLMs ](https://stackoverflow.co/api-solutions/?utm_medium=referral&utm_source=stackoverflow-community&utm_campaign=top-nav&utm_content=overflow-api)\\n  5. [ Labs The future of collective knowledge sharing ](https://stackoverflow.co/labs/?utm_medium=referral&utm_source=stackoverflow-community&utm_campaign=top-nav&utm_content=labs)\\n  6. [About the company](https://stackoverflow.co/?utm_medium=referral&utm_source=stackoverflow-community&utm_campaign=top-nav&utm_content=about-the-company) [Visit the blog](https://stackoverflow.blog/?utm_medium=referral&utm_source=stackoverflow-community&utm_campaign=top-nav&utm_content=blog)\\n\\nLoading…\\n\\n  1. ###  [current community](https://stackoverflow.com)\\n\\n     * [ Stack Overflow  ](https://stackoverflow.com)\\n\\n[help](https://stackoverflow.com/help)\\n[chat](https://chat.stackoverflow.com/?tab=site&host=stackoverflow.com)\\n\\n     * [ Meta Stack Overflow  ](https://meta.stackoverflow.com)\\n\\n###  your communities\\n\\n[Sign\\nup](https://stackoverflow.com/users/signup?ssrc=site_switcher&returnurl=https%3a%2f%2fstackoverflow.com%2fquestions%2f57970896%2fpod-\\nlimit-on-node-aws-eks) or [log\\nin](https://stackoverflow.com/users/login?ssrc=site_switcher&returnurl=https%3a%2f%2fstackoverflow.com%2fquestions%2f57970896%2fpod-\\nlimit-on-node-aws-eks) to customize your list.\\n\\n### [more stack exchange communities](https://stackexchange.com/sites)\\n\\n[company blog](https://stackoverflow.blog)\\n\\n  2.   3. [Log in](https://stackoverflow.com/users/login?ssrc=head&returnurl=https%3a%2f%2fstackoverflow.com%2fquestions%2f57970896%2fpod-limit-on-node-aws-eks)\\n  4. [Sign up](https://stackoverflow.com/users/signup?ssrc=head&returnurl=https%3a%2f%2fstackoverflow.com%2fquestions%2f57970896%2fpod-limit-on-node-aws-eks)\\n\\n  1.     1. [ Home ](/)\\n    2. [ Questions ](/questions)\\n    3. [ Tags ](/tags)\\n    4.     5. [ Users ](/users)\\n    6. [ Companies ](https://stackoverflow.com/jobs/companies?so_medium=stackoverflow&so_source=SiteNav)\\n    7. [ Labs ](javascript:void\\\\(0\\\\))\\n    8. [ Jobs ](/jobs?source=so-left-nav)\\n    9. [ Discussions ](/beta/discussions)\\n    10. [ Collectives ](javascript:void\\\\(0\\\\))\\n\\n    11. Communities for your favorite technologies. [Explore all Collectives](/collectives-all)\\n\\n  2. Teams\\n\\n![](https://cdn.sstatic.net/Img/teams/teams-promo.svg?v=e507948b81bf)\\n\\nAsk questions, find answers and collaborate at work with Stack Overflow for\\nTeams.\\n\\n[Try Teams for\\nfree](https://stackoverflowteams.com/teams/create/free/?utm_medium=referral&utm_source=stackoverflow-\\ncommunity&utm_campaign=side-bar&utm_content=explore-teams) [Explore\\nTeams](https://stackoverflow.co/teams/?utm_medium=referral&utm_source=stackoverflow-\\ncommunity&utm_campaign=side-bar&utm_content=explore-teams)\\n\\n  3. [ Teams ](javascript:void\\\\(0\\\\))\\n  4. Ask questions, find answers and collaborate at work with Stack Overflow for Teams. [Explore Teams](https://stackoverflow.co/teams/?utm_medium=referral&utm_source=stackoverflow-community&utm_campaign=side-bar&utm_content=explore-teams-compact)\\n\\n##### Collectives™ on Stack Overflow\\n\\nFind centralized, trusted content and collaborate around the technologies you\\nuse most.\\n\\n[ Learn more about Collectives ](/collectives)\\n\\n**Teams**\\n\\nQ&A for work\\n\\nConnect and share knowledge within a single location that is structured and\\neasy to search.\\n\\n[ Learn more about Teams ](https://stackoverflow.co/teams/)\\n\\nGet early access and see previews of new features.\\n\\n[ Learn more about Labs](https://stackoverflow.co/labs/)\\n\\n# [Pod limit on Node - AWS EKS](/questions/57970896/pod-limit-on-node-aws-eks)\\n\\n[ Ask Question ](/questions/ask)\\n\\nAsked 5 years, 2 months ago\\n\\nModified [2 months ago](?lastactivity \"2024-08-25 13:15:39Z\")\\n\\nViewed 70k times\\n\\nPart of [AWS](/collectives/aws) Collective\\n\\n42\\n\\n[](/posts/57970896/timeline \"Show activity on this post.\")\\n\\nOn AWS EKS I\\'m adding deployment with 17 replicas (requesting and limiting\\n64Mi memory) to a small cluster with 2 nodes type t3.small.\\n\\nCounting with kube-system pods, total running pods per node is 11 and 1 is\\nleft pending, i.e.:\\n\\nNode #1:  \\naws-node-1  \\ncoredns-5-1as3  \\ncoredns-5-2das  \\nkube-proxy-1  \\n+7 app pod replicas  \\n  \\nNode #2:  \\naws-node-1  \\nkube-proxy-1  \\n+9 app pod replicas  \\n  \\nI understand that t3.small is a very small instance. I\\'m only trying to\\nunderstand what is limiting me here. Memory request is not it, I\\'m way below\\nthe available resources.\\n\\nI found that there is IP addresses limit per node depending on instance type.\\n<https://docs.aws.amazon.com/AWSEC2/latest/UserGuide/using-\\neni.html?shortFooter=true#AvailableIpPerENI> .  \\nI didn\\'t find any other documentation saying explicitly that this is limiting\\npod creation, but I\\'m assuming it does. Based on the table, t3.small can have\\n12 IPv4 addresses. If this is the case and this is limiting factor, since I\\nhave 11 pods, where did 1 missing IPv4 address go?\\n\\n[](/collectives/aws \"AWS Collective\")\\n\\n  * [amazon-web-services](/questions/tagged/amazon-web-services \"show questions tagged \\'amazon-web-services\\'\")\\n  * [kubernetes](/questions/tagged/kubernetes \"show questions tagged \\'kubernetes\\'\")\\n  * [amazon-eks](/questions/tagged/amazon-eks \"show questions tagged \\'amazon-eks\\'\")\\n\\n[Share](/q/57970896 \"Short permalink to this question\")\\n\\n[Improve this question](/posts/57970896/edit)\\n\\nFollow\\n\\n[edited Sep 17, 2019 at 9:17](/posts/57970896/revisions \"show all edits to\\nthis post\")\\n\\nAndrija\\n\\nasked Sep 17, 2019 at 9:05\\n\\n[![Andrija\\'s user\\navatar](https://www.gravatar.com/avatar/4cd53f6c0d69f2478fbe00ad0bb7788f?s=64&d=identicon&r=PG&f=y&so-\\nversion=2)](/users/84852/andrija)\\n\\n[Andrija](/users/84852/andrija)Andrija\\n\\n14.5k1818 gold badges6666 silver badges8888 bronze badges\\n\\n2\\n\\n  * After investigation you have applied standard [amazon-vpc-cni-k8s plugin](https://docs.aws.amazon.com/eks/latest/userguide/pod-networking.html) so please visit aws on [github](https://github.com/aws/amazon-vpc-cni-k8s/issues/176) on-line resources, discussion about pros and cons [here](https://aws.amazon.com/blogs/opensource/networking-foundation-eks-aws-cni-calico/) and [here](https://medium.com/codeops/installing-weave-cni-on-aws-eks-51c2e6b7abc8) to find out how to disable aws cni on aws and install overlay network like [calico](https://docs.aws.amazon.com/eks/latest/userguide/calico.html)\\n\\n- [Mark](/users/11207414/mark \"4,037 reputation\")\\n\\nCommented Sep 23, 2019 at 8:28\\n\\n  * did you found the solution? how to increase the limit or completely disable it?\\n\\n- [Kostanos](/users/2215679/kostanos \"10,324 reputation\")\\n\\nCommented Dec 17, 2020 at 9:39\\n\\nAdd a comment  | \\n\\n##  6 Answers 6\\n\\nSorted by:  [ Reset to default ](/questions/57970896/pod-limit-on-node-aws-\\neks?answertab=scoredesc#tab-top)\\n\\nHighest score (default)  Trending (recent votes count more)  Date modified\\n(newest first)  Date created (oldest first)\\n\\n90\\n\\n[](/posts/57971006/timeline \"Show activity on this post.\")\\n\\nThe real maximum number of pods per EKS instance are actually listed in [this\\ndocument](https://github.com/awslabs/amazon-eks-\\nami/blob/main/templates/shared/runtime/eni-max-pods.txt).\\n\\nFor t3.small instances, it is 11 pods per instance. That is, you can have a\\nmaximum number of 22 pods in your cluster. 6 of these pods are system pods, so\\nthere remains a maximum of 16 workload pods.\\n\\nYou\\'re trying to run 17 workload pods, so it\\'s one too much. I guess 16 of\\nthese pods have been scheduled and 1 is left pending.\\n\\n* * *\\n\\nThe [formula](https://github.com/awslabs/amazon-eks-ami/blob/master/files/eni-\\nmax-pods.txt) for defining the maximum number of pods per instance is as\\nfollows:\\n\\n    \\n    \\n    N * (M-1) + 2\\n    \\n\\nWhere:\\n\\n  * N is the number of Elastic Network Interfaces (ENI) of the instance type\\n  * M is the number of IP addresses of a single ENI\\n\\nSo, for t3.small, this calculation is `3 * (4-1) + 2 = 11`.\\n\\nValues for `N` and `M` for each instance type in [this\\ndocument](https://docs.aws.amazon.com/AWSEC2/latest/UserGuide/using-\\neni.html#AvailableIpPerENI).\\n\\n[Share](/a/57971006 \"Short permalink to this answer\")\\n\\n[Improve this answer](/posts/57971006/edit)\\n\\nFollow\\n\\n[edited Jul 18 at 19:36](/posts/57971006/revisions \"show all edits to this\\npost\")\\n\\n[![Excalibur\\'s user\\navatar](https://www.gravatar.com/avatar/13ef120a08b09777f1ed6b3276a15441?s=64&d=identicon&r=PG)](/users/513739/excalibur)\\n\\n[Excalibur](/users/513739/excalibur)\\n\\n3,35722 gold badges2727 silver badges3333 bronze badges\\n\\nanswered Sep 17, 2019 at 9:11\\n\\n[![weibeld\\'s user\\navatar](https://i.sstatic.net/WBKGw.png?s=64)](/users/4747193/weibeld)\\n\\n[weibeld](/users/4747193/weibeld)weibeld\\n\\n15.1k22 gold badges3939 silver badges5757 bronze badges\\n\\n6\\n\\n  * yeah, I was looking for pod limit, that\\'s why I made 17 :) . That document looks like it, why it is not in official documentation... Thanks for quick reply.\\n\\n- [Andrija](/users/84852/andrija \"14,457 reputation\")\\n\\nCommented Sep 17, 2019 at 9:19\\n\\n  * 1\\n\\nYeah, it should be in the documentation. The document is worth bookmarking,\\nbecause if you work with EKS, you have to refer to it a lot :)\\n\\n- [weibeld](/users/4747193/weibeld \"15,142 reputation\")\\n\\nCommented Sep 17, 2019 at 9:27\\n\\n  * 5\\n\\nRunning \"kubectl describe node <node-internal-dns-name>\" for each of your\\nnodes will reveal the max number of pods for that node under the\\n\"Capacity/pods\" section.\\n\\n- [Oren](/users/1898831/oren \"1,896 reputation\")\\n\\nCommented Dec 30, 2019 at 16:12\\n\\n  * 5\\n\\nCould it be increased ?\\n\\n- [Slim](/users/1988704/slim \"306 reputation\")\\n\\nCommented Aug 16, 2020 at 15:10\\n\\n  * 1\\n\\nIt could probably be increased by adding ENIs to the EC2 instances.\\n\\n- [weibeld](/users/4747193/weibeld \"15,142 reputation\")\\n\\nCommented Aug 19, 2020 at 12:16\\n\\n |  Show **1** more comment\\n\\n32\\n\\n[](/posts/69715615/timeline \"Show activity on this post.\")\\n\\nFor anyone who runs across this when searching google. Be advised that as of\\nAugust 2021 its now possible to increase the max pods on a node using the\\nlatest AWS CNI plugin as described\\n[here](https://aws.amazon.com/blogs/containers/amazon-vpc-cni-increases-pods-\\nper-node-limits/).\\n\\nUsing the basic configuration explained there a t3.medium node went from a max\\nof 17 pods to a max of 110 which is more then adequate for what I was trying\\nto do.\\n\\n[Share](/a/69715615 \"Short permalink to this answer\")\\n\\n[Improve this answer](/posts/69715615/edit)\\n\\nFollow\\n\\nanswered Oct 25, 2021 at 22:51\\n\\n[![jgz\\'s user\\navatar](https://www.gravatar.com/avatar/5fb2ff54c91a503d279f33035ae017f3?s=64&d=identicon&r=PG&f=y&so-\\nversion=2)](/users/16525490/jgz)\\n\\n[jgz](/users/16525490/jgz)jgz\\n\\n42155 silver badges33 bronze badges\\n\\n2\\n\\n  * 1\\n\\nYour answer could be improved with additional supporting information. Please\\n[edit](https://stackoverflow.com/posts/69715615/edit) to add further details,\\nsuch as citations or documentation, so that others can confirm that your\\nanswer is correct. You can find more information on how to write good answers\\n[in the help center](/help/how-to-answer).\\n\\n- [Community](/users/-1/community \"1 reputation\") Bot\\n\\nCommented Oct 26, 2021 at 4:51\\n\\n  * 2\\n\\nThis is the answer. You can also follow the instructions here:\\n[docs.aws.amazon.com/eks/latest/userguide/…](https://docs.aws.amazon.com/eks/latest/userguide/cni-\\nincrease-ip-addresses.html)\\n\\n- [Chris C](/users/3803419/chris-c \"1,072 reputation\")\\n\\nCommented Jan 6, 2022 at 19:02\\n\\nAdd a comment  | \\n\\n10\\n\\n[](/posts/69404880/timeline \"Show activity on this post.\")\\n\\nThis is why we stopped using `EKS` in favor of a KOPS deployed self-managed\\ncluster. IMO `EKS` which employs the `aws-cni` causes too many constraints, it\\nactually goes against one of the major benefits of using Kubernetes, efficient\\nuse of available resources. `EKS` moves the system constraint away from `CPU /\\nmemory` usage into the realm of network IP limitations.\\n\\nKubernetes was designed to provide high density, manage resources efficiently.\\nNot quite so with `EKS’s` version, since a node could be idle, with almost its\\nentire memory available and yet the cluster will be unable to schedule pods on\\nan otherwise low utilized node if `pods > (N * (M-1) + 2)`.\\n\\nOne could be tempted to employ another `CNI` such as `Calico`, however would\\nbe limited to worker nodes since access to master nodes is forbidden. This\\ncauses the cluster to have two networks and problems will arise when trying to\\naccess `K8s API`, or working with Admissions Controllers.\\n\\nIt really does depend on workflow requirements, for us, high pod density,\\nefficient use of resources, and having complete control of the cluster is\\nparamount.\\n\\n[Share](/a/69404880 \"Short permalink to this answer\")\\n\\n[Improve this answer](/posts/69404880/edit)\\n\\nFollow\\n\\n[edited Oct 1, 2021 at 17:57](/posts/69404880/revisions \"show all edits to\\nthis post\")\\n\\n[![chintan thakar\\'s user\\navatar](https://i.sstatic.net/TTNGG.jpg?s=64)](/users/1895073/chintan-thakar)\\n\\n[chintan thakar](/users/1895073/chintan-thakar)\\n\\n1,49011 gold badge1616 silver badges2727 bronze badges\\n\\nanswered Oct 1, 2021 at 11:07\\n\\n[![Paragon1970\\'s user\\navatar](https://lh3.googleusercontent.com/a-/AAuE7mBHjVBT2ZwZKxECsti9l9eo71geSQNjYAAbi1CKew=k-s64)](/users/17050666/paragon1970)\\n\\n[Paragon1970](/users/17050666/paragon1970)Paragon1970\\n\\n11911 silver badge33 bronze badges\\n\\nAdd a comment  | \\n\\n4\\n\\n[](/posts/73750634/timeline \"Show activity on this post.\")\\n\\nconnect to you EKS node\\n\\nrun this\\n\\n    \\n    \\n    /etc/eks/bootstrap.sh clusterName --use-max-pods false  --kubelet-extra-args \\'--max-pods=50\\'\\n    \\n\\nignore nvidia-smi not found the output\\n\\nwhole script location <https://github.com/awslabs/amazon-eks-\\nami/blob/master/files/bootstrap.sh>\\n\\n[Share](/a/73750634 \"Short permalink to this answer\")\\n\\n[Improve this answer](/posts/73750634/edit)\\n\\nFollow\\n\\n[edited Sep 16, 2022 at 22:01](/posts/73750634/revisions \"show all edits to\\nthis post\")\\n\\nanswered Sep 16, 2022 at 21:55\\n\\n[![aamir malek\\'s user\\navatar](https://lh5.googleusercontent.com/-sOa8ek8Q7oU/AAAAAAAAAAI/AAAAAAAA3qs/Fu5bFJ0ChbE/photo.jpg?sz=64)](/users/11036909/aamir-\\nmalek)\\n\\n[aamir malek](/users/11036909/aamir-malek)aamir malek\\n\\n16111 silver badge44 bronze badges\\n\\n3\\n\\n  * can you please provide a reference to run this script using terraform in launch template...it will help me...\\n\\n- [Jahadul Rakib](/users/14117478/jahadul-rakib \"540 reputation\")\\n\\nCommented Oct 3, 2022 at 11:36\\n\\n  * this command will work also aws-vpc-cni ? or its work only for calico ?\\n\\n- [Jahadul Rakib](/users/14117478/jahadul-rakib \"540 reputation\")\\n\\nCommented Oct 3, 2022 at 12:42\\n\\n  * For terraform, you can run this script in the User-Data script.\\n\\n- [aamir malek](/users/11036909/aamir-malek \"161 reputation\")\\n\\nCommented Nov 15, 2022 at 15:52\\n\\nAdd a comment  | \\n\\n2\\n\\n[](/posts/74942832/timeline \"Show activity on this post.\")\\n\\nEKS allows to increase max number of pods per node but this can be done only\\nwith Nitro instances. check the list\\n[here](https://docs.aws.amazon.com/AWSEC2/latest/UserGuide/instance-\\ntypes.html#ec2-nitro-instances)\\n\\n  * Make sure you have VPC CNI 1.9+\\n\\n  * Enable Prefix delegation for VPC_CNI plugin\\n\\n`kubectl set env daemonset aws-node -n kube-system\\nENABLE_PREFIX_DELEGATION=true`\\n\\n  * If you are using `self managed` node group, make sure to pass the following in `BootstrapArguments` `--use-max-pods false --kubelet-extra-args \\'--max-pods=110\\'`\\n\\n    * or you could create the node group using `eksctl` using `eksctl create nodegroup --cluster my-cluster --managed=false --max-pods-per-node 110`\\n  * If you are using `managed` node group with a specified AMI, it has `bootstrap.sh` so you could modify `user_data` to do something like this `/etc/eks/bootstrap.sh my-cluster \\\\ --use-max-pods false \\\\ --kubelet-extra-args \\'--max-pods=110\\' `\\n\\n    * Or simply using `eksctl` by running\\n\\n`eksctl create nodegroup --cluster my-cluster --max-pods-per-node 110`\\n\\nFor more details, check AWS documentation\\n<https://docs.aws.amazon.com/eks/latest/userguide/cni-increase-ip-\\naddresses.html>\\n\\n[Share](/a/74942832 \"Short permalink to this answer\")\\n\\n[Improve this answer](/posts/74942832/edit)\\n\\nFollow\\n\\nanswered Dec 28, 2022 at 16:43\\n\\n[![Muhammad Soliman\\'s user\\navatar](https://i.sstatic.net/LhV7w.jpg?s=64)](/users/1334561/muhammad-\\nsoliman)\\n\\n[Muhammad Soliman](/users/1334561/muhammad-soliman)Muhammad Soliman\\n\\n23.6k66 gold badges113113 silver badges8181 bronze badges\\n\\nAdd a comment  | \\n\\n1\\n\\n[](/posts/78911254/timeline \"Show activity on this post.\")\\n\\n### No need to calculate - just search for your node type below\\n\\nIn general, when using VPC CNI, the maximum amount of pods that can be run per\\nnode has been dependent on VPC CNI settings as described in the \"Calculate max\\npods\" section [here](https://aws.amazon.com/blogs/containers/amazon-vpc-cni-\\nincreases-pods-per-node-limits/).\\n\\nYou can get the maxmium number of available IPs for pods per node - from the\\n[amazon-vpc-cni-k8s github repo](https://github.com/aws/amazon-vpc-\\ncni-k8s/blob/master/misc/eni-max-pods.txt).\\n\\nIf the link will break - below are the values (according to the time of\\nwriting):\\n\\n    \\n    \\n    Mapping is calculated from AWS EC2 API using the following formula:\\n    # * First IP on each ENI is not used for pods\\n    # * +2 for the pods that use host-networking (AWS CNI and kube-proxy)\\n    #\\n    #   # of ENI * (# of IPv4 per ENI - 1) + 2\\n    \\n    \\n    a1.2xlarge 58\\n    a1.4xlarge 234\\n    a1.large 29\\n    a1.medium 8\\n    a1.metal 234\\n    a1.xlarge 58\\n    bmn-sf1.metal 737\\n    c1.medium 12\\n    c1.xlarge 58\\n    c3.2xlarge 58\\n    c3.4xlarge 234\\n    c3.8xlarge 234\\n    c3.large 29\\n    c3.xlarge 58\\n    c4.2xlarge 58\\n    c4.4xlarge 234\\n    c4.8xlarge 234\\n    c4.large 29\\n    c4.xlarge 58\\n    c5.12xlarge 234\\n    c5.18xlarge 737\\n    c5.24xlarge 737\\n    c5.2xlarge 58\\n    c5.4xlarge 234\\n    c5.9xlarge 234\\n    c5.large 29\\n    c5.metal 737\\n    c5.xlarge 58\\n    c5a.12xlarge 234\\n    c5a.16xlarge 737\\n    c5a.24xlarge 737\\n    c5a.2xlarge 58\\n    c5a.4xlarge 234\\n    c5a.8xlarge 234\\n    c5a.large 29\\n    c5a.metal 737\\n    c5a.xlarge 58\\n    c5ad.12xlarge 234\\n    c5ad.16xlarge 737\\n    c5ad.24xlarge 737\\n    c5ad.2xlarge 58\\n    c5ad.4xlarge 234\\n    c5ad.8xlarge 234\\n    c5ad.large 29\\n    c5ad.metal 737\\n    c5ad.xlarge 58\\n    c5d.12xlarge 234\\n    c5d.18xlarge 737\\n    c5d.24xlarge 737\\n    c5d.2xlarge 58\\n    c5d.4xlarge 234\\n    c5d.9xlarge 234\\n    c5d.large 29\\n    c5d.metal 737\\n    c5d.xlarge 58\\n    c5n.18xlarge 737\\n    c5n.2xlarge 58\\n    c5n.4xlarge 234\\n    c5n.9xlarge 234\\n    c5n.large 29\\n    c5n.metal 737\\n    c5n.xlarge 58\\n    c6a.12xlarge 234\\n    c6a.16xlarge 737\\n    c6a.24xlarge 737\\n    c6a.2xlarge 58\\n    c6a.32xlarge 737\\n    c6a.48xlarge 737\\n    c6a.4xlarge 234\\n    c6a.8xlarge 234\\n    c6a.large 29\\n    c6a.metal 737\\n    c6a.xlarge 58\\n    c6g.12xlarge 234\\n    c6g.16xlarge 737\\n    c6g.2xlarge 58\\n    c6g.4xlarge 234\\n    c6g.8xlarge 234\\n    c6g.large 29\\n    c6g.medium 8\\n    c6g.metal 737\\n    c6g.xlarge 58\\n    c6gd.12xlarge 234\\n    c6gd.16xlarge 737\\n    c6gd.2xlarge 58\\n    c6gd.4xlarge 234\\n    c6gd.8xlarge 234\\n    c6gd.large 29\\n    c6gd.medium 8\\n    c6gd.metal 737\\n    c6gd.xlarge 58\\n    c6gn.12xlarge 234\\n    c6gn.16xlarge 737\\n    c6gn.2xlarge 58\\n    c6gn.4xlarge 234\\n    c6gn.8xlarge 234\\n    c6gn.large 29\\n    c6gn.medium 8\\n    c6gn.xlarge 58\\n    c6i.12xlarge 234\\n    c6i.16xlarge 737\\n    c6i.24xlarge 737\\n    c6i.2xlarge 58\\n    c6i.32xlarge 737\\n    c6i.4xlarge 234\\n    c6i.8xlarge 234\\n    c6i.large 29\\n    c6i.metal 737\\n    c6i.xlarge 58\\n    c6id.12xlarge 234\\n    c6id.16xlarge 737\\n    c6id.24xlarge 737\\n    c6id.2xlarge 58\\n    c6id.32xlarge 737\\n    c6id.4xlarge 234\\n    c6id.8xlarge 234\\n    c6id.large 29\\n    c6id.metal 737\\n    c6id.xlarge 58\\n    c6in.12xlarge 234\\n    c6in.16xlarge 737\\n    c6in.24xlarge 737\\n    c6in.2xlarge 58\\n    c6in.32xlarge 394\\n    c6in.4xlarge 234\\n    c6in.8xlarge 234\\n    c6in.large 29\\n    c6in.metal 394\\n    c6in.xlarge 58\\n    c7a.12xlarge 234\\n    c7a.16xlarge 737\\n    c7a.24xlarge 737\\n    c7a.2xlarge 58\\n    c7a.32xlarge 737\\n    c7a.48xlarge 737\\n    c7a.4xlarge 234\\n    c7a.8xlarge 234\\n    c7a.large 29\\n    c7a.medium 8\\n    c7a.metal-48xl 737\\n    c7a.xlarge 58\\n    c7g.12xlarge 234\\n    c7g.16xlarge 737\\n    c7g.2xlarge 58\\n    c7g.4xlarge 234\\n    c7g.8xlarge 234\\n    c7g.large 29\\n    c7g.medium 8\\n    c7g.metal 737\\n    c7g.xlarge 58\\n    c7gd.12xlarge 234\\n    c7gd.16xlarge 737\\n    c7gd.2xlarge 58\\n    c7gd.4xlarge 234\\n    c7gd.8xlarge 234\\n    c7gd.large 29\\n    c7gd.medium 8\\n    c7gd.metal 737\\n    c7gd.xlarge 58\\n    c7gn.12xlarge 234\\n    c7gn.16xlarge 737\\n    c7gn.2xlarge 58\\n    c7gn.4xlarge 234\\n    c7gn.8xlarge 234\\n    c7gn.large 29\\n    c7gn.medium 8\\n    c7gn.metal 737\\n    c7gn.xlarge 58\\n    c7i-flex.2xlarge 58\\n    c7i-flex.4xlarge 234\\n    c7i-flex.8xlarge 234\\n    c7i-flex.large 29\\n    c7i-flex.xlarge 58\\n    c7i.12xlarge 234\\n    c7i.16xlarge 737\\n    c7i.24xlarge 737\\n    c7i.2xlarge 58\\n    c7i.48xlarge 737\\n    c7i.4xlarge 234\\n    c7i.8xlarge 234\\n    c7i.large 29\\n    c7i.metal-24xl 737\\n    c7i.metal-48xl 737\\n    c7i.xlarge 58\\n    cr1.8xlarge 234\\n    d2.2xlarge 58\\n    d2.4xlarge 234\\n    d2.8xlarge 234\\n    d2.xlarge 58\\n    d3.2xlarge 18\\n    d3.4xlarge 38\\n    d3.8xlarge 59\\n    d3.xlarge 10\\n    d3en.12xlarge 89\\n    d3en.2xlarge 18\\n    d3en.4xlarge 38\\n    d3en.6xlarge 58\\n    d3en.8xlarge 78\\n    d3en.xlarge 10\\n    dl1.24xlarge 737\\n    dl2q.24xlarge 737\\n    f1.16xlarge 394\\n    f1.2xlarge 58\\n    f1.4xlarge 234\\n    g3.16xlarge 737\\n    g3.4xlarge 234\\n    g3.8xlarge 234\\n    g3s.xlarge 58\\n    g4ad.16xlarge 234\\n    g4ad.2xlarge 8\\n    g4ad.4xlarge 29\\n    g4ad.8xlarge 58\\n    g4ad.xlarge 8\\n    g4dn.12xlarge 234\\n    g4dn.16xlarge 58\\n    g4dn.2xlarge 29\\n    g4dn.4xlarge 29\\n    g4dn.8xlarge 58\\n    g4dn.metal 737\\n    g4dn.xlarge 29\\n    g5.12xlarge 737\\n    g5.16xlarge 234\\n    g5.24xlarge 737\\n    g5.2xlarge 58\\n    g5.48xlarge 345\\n    g5.4xlarge 234\\n    g5.8xlarge 234\\n    g5.xlarge 58\\n    g5g.16xlarge 737\\n    g5g.2xlarge 58\\n    g5g.4xlarge 234\\n    g5g.8xlarge 234\\n    g5g.metal 737\\n    g5g.xlarge 58\\n    g6.12xlarge 234\\n    g6.16xlarge 737\\n    g6.24xlarge 737\\n    g6.2xlarge 58\\n    g6.48xlarge 737\\n    g6.4xlarge 234\\n    g6.8xlarge 234\\n    g6.xlarge 58\\n    gr6.4xlarge 234\\n    gr6.8xlarge 234\\n    h1.16xlarge 394\\n    h1.2xlarge 58\\n    h1.4xlarge 234\\n    h1.8xlarge 234\\n    hpc6a.48xlarge 100\\n    hpc6id.32xlarge 51\\n    hpc7a.12xlarge 100\\n    hpc7a.24xlarge 100\\n    hpc7a.48xlarge 100\\n    hpc7a.96xlarge 100\\n    hpc7g.16xlarge 198\\n    hpc7g.4xlarge 198\\n    hpc7g.8xlarge 198\\n    hs1.8xlarge 234\\n    i2.2xlarge 58\\n    i2.4xlarge 234\\n    i2.8xlarge 234\\n    i2.xlarge 58\\n    i3.16xlarge 737\\n    i3.2xlarge 58\\n    i3.4xlarge 234\\n    i3.8xlarge 234\\n    i3.large 29\\n    i3.metal 737\\n    i3.xlarge 58\\n    i3en.12xlarge 234\\n    i3en.24xlarge 737\\n    i3en.2xlarge 58\\n    i3en.3xlarge 58\\n    i3en.6xlarge 234\\n    i3en.large 29\\n    i3en.metal 737\\n    i3en.xlarge 58\\n    i4g.16xlarge 737\\n    i4g.2xlarge 58\\n    i4g.4xlarge 234\\n    i4g.8xlarge 234\\n    i4g.large 29\\n    i4g.xlarge 58\\n    i4i.12xlarge 234\\n    i4i.16xlarge 737\\n    i4i.24xlarge 437\\n    i4i.2xlarge 58\\n    i4i.32xlarge 737\\n    i4i.4xlarge 234\\n    i4i.8xlarge 234\\n    i4i.large 29\\n    i4i.metal 737\\n    i4i.xlarge 58\\n    im4gn.16xlarge 737\\n    im4gn.2xlarge 58\\n    im4gn.4xlarge 234\\n    im4gn.8xlarge 234\\n    im4gn.large 29\\n    im4gn.xlarge 58\\n    inf1.24xlarge 321\\n    inf1.2xlarge 38\\n    inf1.6xlarge 234\\n    inf1.xlarge 38\\n    inf2.24xlarge 737\\n    inf2.48xlarge 737\\n    inf2.8xlarge 234\\n    inf2.xlarge 58\\n    is4gen.2xlarge 58\\n    is4gen.4xlarge 234\\n    is4gen.8xlarge 234\\n    is4gen.large 29\\n    is4gen.medium 8\\n    is4gen.xlarge 58\\n    m1.large 29\\n    m1.medium 12\\n    m1.small 8\\n    m1.xlarge 58\\n    m2.2xlarge 118\\n    m2.4xlarge 234\\n    m2.xlarge 58\\n    m3.2xlarge 118\\n    m3.large 29\\n    m3.medium 12\\n    m3.xlarge 58\\n    m4.10xlarge 234\\n    m4.16xlarge 234\\n    m4.2xlarge 58\\n    m4.4xlarge 234\\n    m4.large 20\\n    m4.xlarge 58\\n    m5.12xlarge 234\\n    m5.16xlarge 737\\n    m5.24xlarge 737\\n    m5.2xlarge 58\\n    m5.4xlarge 234\\n    m5.8xlarge 234\\n    m5.large 29\\n    m5.metal 737\\n    m5.xlarge 58\\n    m5a.12xlarge 234\\n    m5a.16xlarge 737\\n    m5a.24xlarge 737\\n    m5a.2xlarge 58\\n    m5a.4xlarge 234\\n    m5a.8xlarge 234\\n    m5a.large 29\\n    m5a.xlarge 58\\n    m5ad.12xlarge 234\\n    m5ad.16xlarge 737\\n    m5ad.24xlarge 737\\n    m5ad.2xlarge 58\\n    m5ad.4xlarge 234\\n    m5ad.8xlarge 234\\n    m5ad.large 29\\n    m5ad.xlarge 58\\n    m5d.12xlarge 234\\n    m5d.16xlarge 737\\n    m5d.24xlarge 737\\n    m5d.2xlarge 58\\n    m5d.4xlarge 234\\n    m5d.8xlarge 234\\n    m5d.large 29\\n    m5d.metal 737\\n    m5d.xlarge 58\\n    m5dn.12xlarge 234\\n    m5dn.16xlarge 737\\n    m5dn.24xlarge 737\\n    m5dn.2xlarge 58\\n    m5dn.4xlarge 234\\n    m5dn.8xlarge 234\\n    m5dn.large 29\\n    m5dn.metal 737\\n    m5dn.xlarge 58\\n    m5n.12xlarge 234\\n    m5n.16xlarge 737\\n    m5n.24xlarge 737\\n    m5n.2xlarge 58\\n    m5n.4xlarge 234\\n    m5n.8xlarge 234\\n    m5n.large 29\\n    m5n.metal 737\\n    m5n.xlarge 58\\n    m5zn.12xlarge 737\\n    m5zn.2xlarge 58\\n    m5zn.3xlarge 234\\n    m5zn.6xlarge 234\\n    m5zn.large 29\\n    m5zn.metal 737\\n    m5zn.xlarge 58\\n    m6a.12xlarge 234\\n    m6a.16xlarge 737\\n    m6a.24xlarge 737\\n    m6a.2xlarge 58\\n    m6a.32xlarge 737\\n    m6a.48xlarge 737\\n    m6a.4xlarge 234\\n    m6a.8xlarge 234\\n    m6a.large 29\\n    m6a.metal 737\\n    m6a.xlarge 58\\n    m6g.12xlarge 234\\n    m6g.16xlarge 737\\n    m6g.2xlarge 58\\n    m6g.4xlarge 234\\n    m6g.8xlarge 234\\n    m6g.large 29\\n    m6g.medium 8\\n    m6g.metal 737\\n    m6g.xlarge 58\\n    m6gd.12xlarge 234\\n    m6gd.16xlarge 737\\n    m6gd.2xlarge 58\\n    m6gd.4xlarge 234\\n    m6gd.8xlarge 234\\n    m6gd.large 29\\n    m6gd.medium 8\\n    m6gd.metal 737\\n    m6gd.xlarge 58\\n    m6i.12xlarge 234\\n    m6i.16xlarge 737\\n    m6i.24xlarge 737\\n    m6i.2xlarge 58\\n    m6i.32xlarge 737\\n    m6i.4xlarge 234\\n    m6i.8xlarge 234\\n    m6i.large 29\\n    m6i.metal 737\\n    m6i.xlarge 58\\n    m6id.12xlarge 234\\n    m6id.16xlarge 737\\n    m6id.24xlarge 737\\n    m6id.2xlarge 58\\n    m6id.32xlarge 737\\n    m6id.4xlarge 234\\n    m6id.8xlarge 234\\n    m6id.large 29\\n    m6id.metal 737\\n    m6id.xlarge 58\\n    m6idn.12xlarge 234\\n    m6idn.16xlarge 737\\n    m6idn.24xlarge 737\\n    m6idn.2xlarge 58\\n    m6idn.32xlarge 394\\n    m6idn.4xlarge 234\\n    m6idn.8xlarge 234\\n    m6idn.large 29\\n    m6idn.metal 394\\n    m6idn.xlarge 58\\n    m6in.12xlarge 234\\n    m6in.16xlarge 737\\n    m6in.24xlarge 737\\n    m6in.2xlarge 58\\n    m6in.32xlarge 394\\n    m6in.4xlarge 234\\n    m6in.8xlarge 234\\n    m6in.large 29\\n    m6in.metal 394\\n    m6in.xlarge 58\\n    m7a.12xlarge 234\\n    m7a.16xlarge 737\\n    m7a.24xlarge 737\\n    m7a.2xlarge 58\\n    m7a.32xlarge 737\\n    m7a.48xlarge 737\\n    m7a.4xlarge 234\\n    m7a.8xlarge 234\\n    m7a.large 29\\n    m7a.medium 8\\n    m7a.metal-48xl 737\\n    m7a.xlarge 58\\n    m7g.12xlarge 234\\n    m7g.16xlarge 737\\n    m7g.2xlarge 58\\n    m7g.4xlarge 234\\n    m7g.8xlarge 234\\n    m7g.large 29\\n    m7g.medium 8\\n    m7g.metal 737\\n    m7g.xlarge 58\\n    m7gd.12xlarge 234\\n    m7gd.16xlarge 737\\n    m7gd.2xlarge 58\\n    m7gd.4xlarge 234\\n    m7gd.8xlarge 234\\n    m7gd.large 29\\n    m7gd.medium 8\\n    m7gd.metal 737\\n    m7gd.xlarge 58\\n    m7i-flex.2xlarge 58\\n    m7i-flex.4xlarge 234\\n    m7i-flex.8xlarge 234\\n    m7i-flex.large 29\\n    m7i-flex.xlarge 58\\n    m7i.12xlarge 234\\n    m7i.16xlarge 737\\n    m7i.24xlarge 737\\n    m7i.2xlarge 58\\n    m7i.48xlarge 737\\n    m7i.4xlarge 234\\n    m7i.8xlarge 234\\n    m7i.large 29\\n    m7i.metal-24xl 737\\n    m7i.metal-48xl 737\\n    m7i.xlarge 58\\n    mac1.metal 234\\n    mac2-m2.metal 234\\n    mac2-m2pro.metal 234\\n    mac2.metal 234\\n    p2.16xlarge 234\\n    p2.8xlarge 234\\n    p2.xlarge 58\\n    p3.16xlarge 234\\n    p3.2xlarge 58\\n    p3.8xlarge 234\\n    p3dn.24xlarge 737\\n    p4d.24xlarge 737\\n    p4de.24xlarge 737\\n    p5.48xlarge 100\\n    r3.2xlarge 58\\n    r3.4xlarge 234\\n    r3.8xlarge 234\\n    r3.large 29\\n    r3.xlarge 58\\n    r4.16xlarge 737\\n    r4.2xlarge 58\\n    r4.4xlarge 234\\n    r4.8xlarge 234\\n    r4.large 29\\n    r4.xlarge 58\\n    r5.12xlarge 234\\n    r5.16xlarge 737\\n    r5.24xlarge 737\\n    r5.2xlarge 58\\n    r5.4xlarge 234\\n    r5.8xlarge 234\\n    r5.large 29\\n    r5.metal 737\\n    r5.xlarge 58\\n    r5a.12xlarge 234\\n    r5a.16xlarge 737\\n    r5a.24xlarge 737\\n    r5a.2xlarge 58\\n    r5a.4xlarge 234\\n    r5a.8xlarge 234\\n    r5a.large 29\\n    r5a.xlarge 58\\n    r5ad.12xlarge 234\\n    r5ad.16xlarge 737\\n    r5ad.24xlarge 737\\n    r5ad.2xlarge 58\\n    r5ad.4xlarge 234\\n    r5ad.8xlarge 234\\n    r5ad.large 29\\n    r5ad.xlarge 58\\n    r5b.12xlarge 234\\n    r5b.16xlarge 737\\n    r5b.24xlarge 737\\n    r5b.2xlarge 58\\n    r5b.4xlarge 234\\n    r5b.8xlarge 234\\n    r5b.large 29\\n    r5b.metal 737\\n    r5b.xlarge 58\\n    r5d.12xlarge 234\\n    r5d.16xlarge 737\\n    r5d.24xlarge 737\\n    r5d.2xlarge 58\\n    r5d.4xlarge 234\\n    r5d.8xlarge 234\\n    r5d.large 29\\n    r5d.metal 737\\n    r5d.xlarge 58\\n    r5dn.12xlarge 234\\n    r5dn.16xlarge 737\\n    r5dn.24xlarge 737\\n    r5dn.2xlarge 58\\n    r5dn.4xlarge 234\\n    r5dn.8xlarge 234\\n    r5dn.large 29\\n    r5dn.metal 737\\n    r5dn.xlarge 58\\n    r5n.12xlarge 234\\n    r5n.16xlarge 737\\n    r5n.24xlarge 737\\n    r5n.2xlarge 58\\n    r5n.4xlarge 234\\n    r5n.8xlarge 234\\n    r5n.large 29\\n    r5n.metal 737\\n    r5n.xlarge 58\\n    r6a.12xlarge 234\\n    r6a.16xlarge 737\\n    r6a.24xlarge 737\\n    r6a.2xlarge 58\\n    r6a.32xlarge 737\\n    r6a.48xlarge 737\\n    r6a.4xlarge 234\\n    r6a.8xlarge 234\\n    r6a.large 29\\n    r6a.metal 737\\n    r6a.xlarge 58\\n    r6g.12xlarge 234\\n    r6g.16xlarge 737\\n    r6g.2xlarge 58\\n    r6g.4xlarge 234\\n    r6g.8xlarge 234\\n    r6g.large 29\\n    r6g.medium 8\\n    r6g.metal 737\\n    r6g.xlarge 58\\n    r6gd.12xlarge 234\\n    r6gd.16xlarge 737\\n    r6gd.2xlarge 58\\n    r6gd.4xlarge 234\\n    r6gd.8xlarge 234\\n    r6gd.large 29\\n    r6gd.medium 8\\n    r6gd.metal 737\\n    r6gd.xlarge 58\\n    r6i.12xlarge 234\\n    r6i.16xlarge 737\\n    r6i.24xlarge 737\\n    r6i.2xlarge 58\\n    r6i.32xlarge 737\\n    r6i.4xlarge 234\\n    r6i.8xlarge 234\\n    r6i.large 29\\n    r6i.metal 737\\n    r6i.xlarge 58\\n    r6id.12xlarge 234\\n    r6id.16xlarge 737\\n    r6id.24xlarge 737\\n    r6id.2xlarge 58\\n    r6id.32xlarge 737\\n    r6id.4xlarge 234\\n    r6id.8xlarge 234\\n    r6id.large 29\\n    r6id.metal 737\\n    r6id.xlarge 58\\n    r6idn.12xlarge 234\\n    r6idn.16xlarge 737\\n    r6idn.24xlarge 737\\n    r6idn.2xlarge 58\\n    r6idn.32xlarge 394\\n    r6idn.4xlarge 234\\n    r6idn.8xlarge 234\\n    r6idn.large 29\\n    r6idn.metal 394\\n    r6idn.xlarge 58\\n    r6in.12xlarge 234\\n    r6in.16xlarge 737\\n    r6in.24xlarge 737\\n    r6in.2xlarge 58\\n    r6in.32xlarge 394\\n    r6in.4xlarge 234\\n    r6in.8xlarge 234\\n    r6in.large 29\\n    r6in.metal 394\\n    r6in.xlarge 58\\n    r7a.12xlarge 234\\n    r7a.16xlarge 737\\n    r7a.24xlarge 737\\n    r7a.2xlarge 58\\n    r7a.32xlarge 737\\n    r7a.48xlarge 737\\n    r7a.4xlarge 234\\n    r7a.8xlarge 234\\n    r7a.large 29\\n    r7a.medium 8\\n    r7a.metal-48xl 737\\n    r7a.xlarge 58\\n    r7g.12xlarge 234\\n    r7g.16xlarge 737\\n    r7g.2xlarge 58\\n    r7g.4xlarge 234\\n    r7g.8xlarge 234\\n    r7g.large 29\\n    r7g.medium 8\\n    r7g.metal 737\\n    r7g.xlarge 58\\n    r7gd.12xlarge 234\\n    r7gd.16xlarge 737\\n    r7gd.2xlarge 58\\n    r7gd.4xlarge 234\\n    r7gd.8xlarge 234\\n    r7gd.large 29\\n    r7gd.medium 8\\n    r7gd.metal 737\\n    r7gd.xlarge 58\\n    r7i.12xlarge 234\\n    r7i.16xlarge 737\\n    r7i.24xlarge 737\\n    r7i.2xlarge 58\\n    r7i.48xlarge 737\\n    r7i.4xlarge 234\\n    r7i.8xlarge 234\\n    r7i.large 29\\n    r7i.metal-24xl 737\\n    r7i.metal-48xl 737\\n    r7i.xlarge 58\\n    r7iz.12xlarge 234\\n    r7iz.16xlarge 737\\n    r7iz.2xlarge 58\\n    r7iz.32xlarge 737\\n    r7iz.4xlarge 234\\n    r7iz.8xlarge 234\\n    r7iz.large 29\\n    r7iz.metal-16xl 737\\n    r7iz.metal-32xl 737\\n    r7iz.xlarge 58\\n    t1.micro 4\\n    t2.2xlarge 44\\n    t2.large 35\\n    t2.medium 17\\n    t2.micro 4\\n    t2.nano 4\\n    t2.small 11\\n    t2.xlarge 44\\n    t3.2xlarge 58\\n    t3.large 35\\n    t3.medium 17\\n    t3.micro 4\\n    t3.nano 4\\n    t3.small 11\\n    t3.xlarge 58\\n    t3a.2xlarge 58\\n    t3a.large 35\\n    t3a.medium 17\\n    t3a.micro 4\\n    t3a.nano 4\\n    t3a.small 8\\n    t3a.xlarge 58\\n    t4g.2xlarge 58\\n    t4g.large 35\\n    t4g.medium 17\\n    t4g.micro 4\\n    t4g.nano 4\\n    t4g.small 11\\n    t4g.xlarge 58\\n    trn1.2xlarge 58\\n    trn1.32xlarge 247\\n    trn1n.32xlarge 247\\n    u-12tb1.112xlarge 737\\n    u-12tb1.metal 147\\n    u-18tb1.112xlarge 737\\n    u-18tb1.metal 737\\n    u-24tb1.112xlarge 737\\n    u-24tb1.metal 737\\n    u-3tb1.56xlarge 234\\n    u-6tb1.112xlarge 737\\n    u-6tb1.56xlarge 737\\n    u-6tb1.metal 147\\n    u-9tb1.112xlarge 737\\n    u-9tb1.metal 147\\n    vt1.24xlarge 737\\n    vt1.3xlarge 58\\n    vt1.6xlarge 234\\n    x1.16xlarge 234\\n    x1.32xlarge 234\\n    x1e.16xlarge 234\\n    x1e.2xlarge 58\\n    x1e.32xlarge 234\\n    x1e.4xlarge 58\\n    x1e.8xlarge 58\\n    x1e.xlarge 29\\n    x2gd.12xlarge 234\\n    x2gd.16xlarge 737\\n    x2gd.2xlarge 58\\n    x2gd.4xlarge 234\\n    x2gd.8xlarge 234\\n    x2gd.large 29\\n    x2gd.medium 8\\n    x2gd.metal 737\\n    x2gd.xlarge 58\\n    x2idn.16xlarge 737\\n    x2idn.24xlarge 737\\n    x2idn.32xlarge 737\\n    x2idn.metal 737\\n    x2iedn.16xlarge 737\\n    x2iedn.24xlarge 737\\n    x2iedn.2xlarge 58\\n    x2iedn.32xlarge 737\\n    x2iedn.4xlarge 234\\n    x2iedn.8xlarge 234\\n    x2iedn.metal 737\\n    x2iedn.xlarge 58\\n    x2iezn.12xlarge 737\\n    x2iezn.2xlarge 58\\n    x2iezn.4xlarge 234\\n    x2iezn.6xlarge 234\\n    x2iezn.8xlarge 234\\n    x2iezn.metal 737\\n    z1d.12xlarge 737\\n    z1d.2xlarge 58\\n    z1d.3xlarge 234\\n    z1d.6xlarge 234\\n    z1d.large 29\\n    z1d.metal 737\\n    z1d.xlarge 58\\n    \\n\\n[Share](/a/78911254 \"Short permalink to this answer\")\\n\\n[Improve this answer](/posts/78911254/edit)\\n\\nFollow\\n\\n[edited Aug 25 at 13:15](/posts/78911254/revisions \"show all edits to this\\npost\")\\n\\nanswered Aug 25 at 12:52\\n\\n[![Rotem jackoby\\'s user\\navatar](https://www.gravatar.com/avatar/107522343c9ed3b01cdc0d3eece92241?s=64&d=identicon&r=PG)](/users/1103953/rotem-\\njackoby)\\n\\n[Rotem jackoby](/users/1103953/rotem-jackoby)Rotem jackoby\\n\\n21.8k1414 gold badges136136 silver badges136136 bronze badges\\n\\nAdd a comment  | \\n\\n##  Your Answer\\n\\n**Reminder:** Answers generated by artificial intelligence tools are not\\nallowed on Stack Overflow. [Learn more](/help/gen-ai-policy)\\n\\nThanks for contributing an answer to Stack Overflow!\\n\\n  * Please be sure to _answer the question_. Provide details and share your research!\\n\\nBut _avoid_ …\\n\\n  * Asking for help, clarification, or responding to other answers.\\n  * Making statements based on opinion; back them up with references or personal experience.\\n\\nTo learn more, see our [tips on writing great answers](/help/how-to-answer).\\n\\nDraft saved\\n\\nDraft discarded\\n\\n### Sign up or [log\\nin](/users/login?ssrc=question_page&returnurl=https%3a%2f%2fstackoverflow.com%2fquestions%2f57970896%2fpod-\\nlimit-on-node-aws-eks%23new-answer)\\n\\nSign up using Google\\n\\nSign up using Email and Password\\n\\nSubmit\\n\\n### Post as a guest\\n\\nName\\n\\nEmail\\n\\nRequired, but never shown\\n\\n### Post as a guest\\n\\nName\\n\\nEmail\\n\\nRequired, but never shown\\n\\nPost Your Answer  Discard\\n\\nBy clicking “Post Your Answer”, you agree to our [terms of\\nservice](https://stackoverflow.com/legal/terms-of-service/public) and\\nacknowledge you have read our [privacy\\npolicy](https://stackoverflow.com/legal/privacy-policy).\\n\\n##\\n\\nNot the answer you\\'re looking for? Browse other questions tagged\\n\\n  * [amazon-web-services](/questions/tagged/amazon-web-services \"show questions tagged \\'amazon-web-services\\'\")\\n  * [kubernetes](/questions/tagged/kubernetes \"show questions tagged \\'kubernetes\\'\")\\n  * [amazon-eks](/questions/tagged/amazon-eks \"show questions tagged \\'amazon-eks\\'\")\\n\\nor [ask your own question](/questions/ask).\\n\\n[ AWS Collective Join the discussion ](/collectives/aws/beta/discussions)\\n\\n[ This question is in a collective:](/collectives) a subcommunity defined by\\ntags with relevant content and experts.\\n\\n  * The Overflow Blog \\n  * [We\\'ll Be In Touch - A New Podcast From Stack Overflow!](https://stackoverflow.blog/2024/11/21/well-be-in-touch-stack-overflow-podcast-developer-career-software-interviews/)\\n\\n  * [The app that fights for your data privacy rights](https://stackoverflow.blog/2024/11/22/the-app-that-helps-you-exercise-your-privacy-rights/)\\n\\n  * Featured on Meta \\n  * [More network sites to see advertising test](https://meta.stackexchange.com/questions/404116/more-network-sites-to-see-advertising-test)\\n\\n  * [We’re (finally!) going to the cloud!](https://meta.stackexchange.com/questions/404231/we-re-finally-going-to-the-cloud)\\n\\n  * [Call for testers for an early access release of a Stack Overflow extension...](https://meta.stackoverflow.com/questions/432029/call-for-testers-for-an-early-access-release-of-a-stack-overflow-extension-for-g \"Call for testers for an early access release of a Stack Overflow extension for GitHub Copilot\")\\n\\n#### Linked\\n\\n[ 1 ](/q/65219110 \"Question score \\\\(upvotes - downvotes\\\\)\") [Kubernetes -\\nAutoScaling doesn\\'t increase the number of nodes when pod limit has\\nreached](/questions/65219110/kubernetes-autoscaling-doesnt-increase-the-\\nnumber-of-nodes-when-pod-limit-has?noredirect=1)\\n\\n[ 1 ](/q/64724219 \"Question score \\\\(upvotes - downvotes\\\\)\") [Kubernetes\\nDaemonSet Pods schedule on all nodes expect\\none](/questions/64724219/kubernetes-daemonset-pods-schedule-on-all-nodes-\\nexpect-one?noredirect=1)\\n\\n[ 1 ](/q/68532574 \"Question score \\\\(upvotes - downvotes\\\\)\") [Kubenetes AWS EKS\\nare assigning all pods into only one node while leaving the other node\\nfree](/questions/68532574/kubenetes-aws-eks-are-assigning-all-pods-into-only-\\none-node-while-leaving-the-ot?noredirect=1)\\n\\n#### Related\\n\\n[ 0 ](/q/46483998 \"Question score \\\\(upvotes - downvotes\\\\)\") [Kubernetes Max\\nnumber of pods with NodePort](/questions/46483998/kubernetes-max-number-of-\\npods-with-nodeport)\\n\\n[ 3 ](/q/51552595 \"Question score \\\\(upvotes - downvotes\\\\)\") [AWS Recommended\\nPOD sizes in Kubernetes - EKS](/questions/51552595/aws-recommended-pod-sizes-\\nin-kubernetes-eks)\\n\\n[ 3 ](/q/52153170 \"Question score \\\\(upvotes - downvotes\\\\)\") [AWS EKS Nodes\\nmemory / CPU limits are low (10%)](/questions/52153170/aws-eks-nodes-memory-\\ncpu-limits-are-low-10)\\n\\n[ 2 ](/q/55510531 \"Question score \\\\(upvotes - downvotes\\\\)\") [How pods without\\nany resource quota are handled by kubernetes?](/questions/55510531/how-pods-\\nwithout-any-resource-quota-are-handled-by-kubernetes)\\n\\n[ 4 ](/q/56486101 \"Question score \\\\(upvotes - downvotes\\\\)\") [AWS EKS Node -\\nVolume Attach Limit](/questions/56486101/aws-eks-node-volume-attach-limit)\\n\\n[ 1 ](/q/57967124 \"Question score \\\\(upvotes - downvotes\\\\)\") [Max pods per\\nnode](/questions/57967124/max-pods-per-node)\\n\\n[ 2 ](/q/60278561 \"Question score \\\\(upvotes - downvotes\\\\)\") [Increase max pod\\non Node](/questions/60278561/increase-max-pod-on-node)\\n\\n[ 16 ](/q/64965832 \"Question score \\\\(upvotes - downvotes\\\\)\") [AWS EKS - Only 2\\npod can be launched - Too many pods error](/questions/64965832/aws-eks-\\nonly-2-pod-can-be-launched-too-many-pods-error)\\n\\n[ 3 ](/q/65899092 \"Question score \\\\(upvotes - downvotes\\\\)\") [Why are my pods\\nnot utilizing multiple nodes?](/questions/65899092/why-are-my-pods-not-\\nutilizing-multiple-nodes)\\n\\n[ 0 ](/q/71371856 \"Question score \\\\(upvotes - downvotes\\\\)\") [Kubernetes\\nClusters and number of Pods](/questions/71371856/kubernetes-clusters-and-\\nnumber-of-pods)\\n\\n####  [ Hot Network Questions ](https://stackexchange.com/questions?tab=hot)\\n\\n  * [ What do Trump supporters think of his Cabinet nominations? ](https://politics.stackexchange.com/questions/89876/what-do-trump-supporters-think-of-his-cabinet-nominations)\\n  * [ How did the Dutch Republic get sufficient timber to build its navies? ](https://history.stackexchange.com/questions/77043/how-did-the-dutch-republic-get-sufficient-timber-to-build-its-navies)\\n  * [ \"Your move, bud.\" ](https://puzzling.stackexchange.com/questions/129322/your-move-bud)\\n  * [ Does a matrix C exist so that AC and BC are positive definite? ](https://math.stackexchange.com/questions/5001872/does-a-matrix-c-exist-so-that-ac-and-bc-are-positive-definite)\\n  * [ Why do telescopes converge light instead of diverge? ](https://physics.stackexchange.com/questions/834880/why-do-telescopes-converge-light-instead-of-diverge)\\n  * [ Sci-fi movie that starts with a man digging his way out of a crashed spacecraft and promptly being torn in half ](https://scifi.stackexchange.com/questions/293118/sci-fi-movie-that-starts-with-a-man-digging-his-way-out-of-a-crashed-spacecraft)\\n  * [ Laplace transform schema ](https://tex.stackexchange.com/questions/731244/laplace-transform-schema)\\n  * [ Can the same arguments used to reject metaphysical solipsism also support accepting the existence of God? ](https://philosophy.stackexchange.com/questions/119359/can-the-same-arguments-used-to-reject-metaphysical-solipsism-also-support-accept)\\n  * [ Steampunk book about a female lead who lives on an island and works in a volcano ](https://scifi.stackexchange.com/questions/293145/steampunk-book-about-a-female-lead-who-lives-on-an-island-and-works-in-a-volcano)\\n  * [ Best way to design a PCB for frequent component switching? ](https://electronics.stackexchange.com/questions/731396/best-way-to-design-a-pcb-for-frequent-component-switching)\\n  * [ Why does one of my GAM responses not fit the data well? ](https://stats.stackexchange.com/questions/657637/why-does-one-of-my-gam-responses-not-fit-the-data-well)\\n  * [ Is it legal to take advantage of loopholes in GAAP to misrepresent profit? ](https://law.stackexchange.com/questions/106111/is-it-legal-to-take-advantage-of-loopholes-in-gaap-to-misrepresent-profit)\\n  * [ Given extensive protections in modern operating systems that make buffer overflow exploits unfeasible, should I even bother studying these? ](https://security.stackexchange.com/questions/279578/given-extensive-protections-in-modern-operating-systems-that-make-buffer-overflo)\\n  * [ Which is larger? 999,999! or 2^(11!) ](https://puzzling.stackexchange.com/questions/129309/which-is-larger-999-999-or-211)\\n  * [ Is it allowed to use web APIs exposed in open-source code? ](https://opensource.stackexchange.com/questions/15202/is-it-allowed-to-use-web-apis-exposed-in-open-source-code)\\n  * [ How can I prove a zero-one matrix, that has all entries 1 except for the anti-diagonal, invertible? ](https://math.stackexchange.com/questions/5000830/how-can-i-prove-a-zero-one-matrix-that-has-all-entries-1-except-for-the-anti-di)\\n  * [ Moving intersecting point at specific distance along line in QGIS ](https://gis.stackexchange.com/questions/488119/moving-intersecting-point-at-specific-distance-along-line-in-qgis)\\n  * [ Is it ok to use a MOSFET as a gate driver for another MOSFET? ](https://electronics.stackexchange.com/questions/731515/is-it-ok-to-use-a-mosfet-as-a-gate-driver-for-another-mosfet)\\n  * [ How to write a cooking scene without it sounding like a recipe? ](https://writing.stackexchange.com/questions/70413/how-to-write-a-cooking-scene-without-it-sounding-like-a-recipe)\\n  * [ Why aren\\'t there square astronomical units or square light years? ](https://astronomy.stackexchange.com/questions/58966/why-arent-there-square-astronomical-units-or-square-light-years)\\n  * [ Is it safe to solder 230V wire on relay? ](https://electronics.stackexchange.com/questions/731471/is-it-safe-to-solder-230v-wire-on-relay)\\n  * [ What is the largest distance at which a Cube-world is distinguishable from a spherical world? ](https://worldbuilding.stackexchange.com/questions/263057/what-is-the-largest-distance-at-which-a-cube-world-is-distinguishable-from-a-sph)\\n  * [ Movie about an alien takeover of Earth ](https://scifi.stackexchange.com/questions/293149/movie-about-an-alien-takeover-of-earth)\\n  * [ Can one be immortal then not immortal? ](https://philosophy.stackexchange.com/questions/119367/can-one-be-immortal-then-not-immortal)\\n\\nmore hot questions\\n\\n[ Question feed ](/feeds/question/57970896 \"Feed of this question and its\\nanswers\")\\n\\n#  Subscribe to RSS\\n\\nQuestion feed\\n\\nTo subscribe to this RSS feed, copy and paste this URL into your RSS reader.\\n\\n![](/posts/57970896/ivc/b399?prg=9744aed2-4b48-4957-8186-2742ff8f5c46)\\n\\nlang-yaml\\n\\n[](https://stackoverflow.com)\\n\\n##### [Stack Overflow](https://stackoverflow.com)\\n\\n  * [Questions](/questions)\\n  * [Help](/help)\\n  * [Chat](https://chat.stackoverflow.com/?tab=site&host=stackoverflow.com)\\n\\n##### [Products](https://stackoverflow.co/)\\n\\n  * [Teams](https://stackoverflow.co/teams/?utm_medium=referral&utm_source=stackoverflow-community&utm_campaign=footer&utm_content=teams)\\n  * [Advertising](https://stackoverflow.co/advertising/?utm_medium=referral&utm_source=stackoverflow-community&utm_campaign=footer&utm_content=advertising)\\n  * [Talent](https://stackoverflow.co/advertising/employer-branding/?utm_medium=referral&utm_source=stackoverflow-community&utm_campaign=footer&utm_content=talent)\\n\\n##### [Company](https://stackoverflow.co/)\\n\\n  * [About](https://stackoverflow.co/)\\n  * [Press](https://stackoverflow.co/company/press/)\\n  * [Work Here](https://stackoverflow.co/company/work-here/)\\n  * [Legal](https://stackoverflow.com/legal)\\n  * [Privacy Policy](https://stackoverflow.com/legal/privacy-policy)\\n  * [Terms of Service](https://stackoverflow.com/legal/terms-of-service/public)\\n  * [Contact Us](/contact)\\n  * Cookie Settings\\n  * [Cookie Policy](https://stackoverflow.com/legal/cookie-policy)\\n\\n##### [Stack Exchange Network](https://stackexchange.com)\\n\\n  * [ Technology ](https://stackexchange.com/sites#technology)\\n  * [ Culture & recreation ](https://stackexchange.com/sites#culturerecreation)\\n  * [ Life & arts ](https://stackexchange.com/sites#lifearts)\\n  * [ Science ](https://stackexchange.com/sites#science)\\n  * [ Professional ](https://stackexchange.com/sites#professional)\\n  * [ Business ](https://stackexchange.com/sites#business)\\n  * [ API ](https://api.stackexchange.com/)\\n  * [ Data ](https://data.stackexchange.com/)\\n\\n  * [Blog](https://stackoverflow.blog?blb=1)\\n  * [Facebook](https://www.facebook.com/officialstackoverflow/)\\n  * [Twitter](https://twitter.com/stackoverflow)\\n  * [LinkedIn](https://linkedin.com/company/stack-overflow)\\n  * [Instagram](https://www.instagram.com/thestackoverflow)\\n\\nSite design / logo © 2024 Stack Exchange Inc;  user contributions licensed\\nunder  [CC BY-SA](https://stackoverflow.com/help/licensing) .  rev\\n2024.11.22.19148\\n\\n', mimetype='text/plain', start_char_idx=None, end_char_idx=None, text_template='{metadata_str}\\n\\n{content}', metadata_template='{key}: {value}', metadata_seperator='\\n')]\n"
     ]
    }
   ],
   "source": [
    "print(documents)"
   ]
  },
  {
   "cell_type": "code",
   "execution_count": 7,
   "metadata": {},
   "outputs": [],
   "source": [
    "documents = SimpleWebPageReader(html_to_text=True).load_data(\n",
    "    [\"https://stackoverflow.com/questions/57764237/kubernetes-ingress-to-external-service\"]\n",
    ")"
   ]
  },
  {
   "cell_type": "code",
   "execution_count": 8,
   "metadata": {},
   "outputs": [],
   "source": [
    "summary_index=SummaryIndex.from_documents(documents)\n",
    "\n",
    "summary_query_engine = summary_index.as_query_engine(\n",
    "    response_mode=\"tree_summarize\",\n",
    "    use_async=False,\n",
    ")"
   ]
  },
  {
   "cell_type": "code",
   "execution_count": 19,
   "metadata": {},
   "outputs": [],
   "source": [
    "response = summary_query_engine.query(\"From the given document, first summarize the question and then the answer with the green checkmark, include hyperlinks to all external resources mentioned in the answer. At the end please provide the name and link to the author's webpage who gave the answer\")\n"
   ]
  },
  {
   "cell_type": "code",
   "execution_count": 20,
   "metadata": {},
   "outputs": [
    {
     "data": {
      "text/markdown": [
       "The question is about setting up a Kubernetes Ingress to point to a non-Kubernetes service using an external IP address and port. The user wants to consolidate their Ingress and certificate management by using Kubernetes resources.\n",
       "\n",
       "The answer with the green checkmark provides a YAML configuration for creating a Service, EndpointSlice, and Ingress objects to achieve this setup. It includes details on defining the Service and EndpointSlice for the external service, as well as configuring the Ingress to route traffic to the Service. The author of this answer is Anton Kostenko, and the link to their Stack Overflow profile is [here](https://stackoverflow.com/users/5937420/anton-kostenko). \n",
       "\n",
       "External resources mentioned in the answer include:\n",
       "1. [Kubernetes Ingress-Nginx GitHub repository](https://github.com/kubernetes/ingress-nginx/)\n",
       "2. [EndpointSlice documentation](https://kubernetes.io/docs/concepts/services-networking/endpoint-slices/)\n",
       "3. [NGINX Ingress deployment guide](https://kubernetes.github.io/ingress-nginx/deploy/#cloud-deployments)"
      ],
      "text/plain": [
       "<IPython.core.display.Markdown object>"
      ]
     },
     "metadata": {},
     "output_type": "display_data"
    }
   ],
   "source": [
    "display(Markdown(f\"{response}\"))"
   ]
  },
  {
   "cell_type": "code",
   "execution_count": 21,
   "metadata": {},
   "outputs": [],
   "source": [
    "response = summary_query_engine.query(\"Does the answer with the green checkmark includes any code, if yes, please provide it as it is.\")\n"
   ]
  },
  {
   "cell_type": "code",
   "execution_count": 22,
   "metadata": {},
   "outputs": [
    {
     "data": {
      "text/markdown": [
       "Yes, the answer with the green checkmark includes code. Here it is:\n",
       "\n",
       "```yaml\n",
       "apiVersion: v1\n",
       "kind: Service\n",
       "metadata:\n",
       "  name: external-service\n",
       "spec:\n",
       "  ports:\n",
       "  - name: https\n",
       "    port: 5678\n",
       "    targetPort: 5678\n",
       "---\n",
       "apiVersion: discovery.k8s.io/v1\n",
       "kind: EndpointSlice\n",
       "metadata:\n",
       "  name: external-service-1\n",
       "  labels:\n",
       "    kubernetes.io/service-name: external-service\n",
       "addressType: IPv4\n",
       "ports:\n",
       "  - name: ''\n",
       "    appProtocol: http\n",
       "    protocol: TCP\n",
       "    port: 5678\n",
       "endpoints:\n",
       "  - addresses:\n",
       "      - \"10.0.40.1\"\n",
       "---\n",
       "apiVersion: networking.k8s.io/v1\n",
       "kind: Ingress\n",
       "metadata:\n",
       "  name: external-service\n",
       "  annotations:\n",
       "    kubernetes.io/ingress.class: \"nginx\"\n",
       "    nginx.ingress.kubernetes.io/backend-protocol: \"HTTPS\"\n",
       "spec:\n",
       "  rules:\n",
       "  - host: service.example.com\n",
       "    http:\n",
       "      paths:\n",
       "      - pathType: Prefix\n",
       "        path: \"/\"\n",
       "        backend:\n",
       "          service:\n",
       "            name: external-service\n",
       "            port:\n",
       "              number: 5678\n",
       "```"
      ],
      "text/plain": [
       "<IPython.core.display.Markdown object>"
      ]
     },
     "metadata": {},
     "output_type": "display_data"
    }
   ],
   "source": [
    "display(Markdown(f\"{response}\"))"
   ]
  },
  {
   "cell_type": "code",
   "execution_count": 23,
   "metadata": {},
   "outputs": [],
   "source": [
    "response = summary_query_engine.query(\"From the given document, summarize the question.\")\n"
   ]
  },
  {
   "cell_type": "code",
   "execution_count": 24,
   "metadata": {},
   "outputs": [
    {
     "data": {
      "text/markdown": [
       "The question in the document is about setting up a Kubernetes Ingress to point to a non-Kubernetes service hosted at a specific IP and port, with SSL required. The user wants to consolidate their Ingress and certificate management by using Kubernetes Ingress to control access to non-Kubernetes services as well."
      ],
      "text/plain": [
       "<IPython.core.display.Markdown object>"
      ]
     },
     "metadata": {},
     "output_type": "display_data"
    }
   ],
   "source": [
    "display(Markdown(f\"{response}\"))"
   ]
  },
  {
   "cell_type": "code",
   "execution_count": 26,
   "metadata": {},
   "outputs": [],
   "source": [
    "response = summary_query_engine.query(\"From the given document, summarize the answer with the green checkmark, include hyperlinks to all external resources mentioned in the answer. At the end please provide the name and link to the author's webpage who gave the answer\")\n"
   ]
  },
  {
   "cell_type": "code",
   "execution_count": 29,
   "metadata": {},
   "outputs": [
    {
     "data": {
      "text/markdown": [
       "The answer with the green checkmark provides a solution for setting up an Ingress in Kubernetes to point to an external service using an EndpointSlice object. The configuration includes creating a Service and EndpointSlice for the external server, then creating an Ingress object pointing to the Service. The author of this answer is Anton Kostenko. \n",
       "\n",
       "External resources mentioned in the answer:\n",
       "1. [EndpointSlice](https://kubernetes.io/docs/concepts/services-networking/endpoint-slices/)\n",
       "2. [NGINX Ingress 1.7](https://kubernetes.github.io/ingress-nginx/deploy/#cloud-deployments)\n",
       "\n",
       "Author's webpage: [Anton Kostenko](https://stackoverflow.com/users/5937420/anton-kostenko)"
      ],
      "text/plain": [
       "<IPython.core.display.Markdown object>"
      ]
     },
     "metadata": {},
     "output_type": "display_data"
    }
   ],
   "source": [
    "display(Markdown(f\"{esponse}\"))"
   ]
  },
  {
   "cell_type": "code",
   "execution_count": null,
   "metadata": {},
   "outputs": [],
   "source": []
  }
 ],
 "metadata": {
  "kernelspec": {
   "display_name": "Python 3 (ipykernel)",
   "language": "python",
   "name": "python3"
  },
  "language_info": {
   "codemirror_mode": {
    "name": "ipython",
    "version": 3
   },
   "file_extension": ".py",
   "mimetype": "text/x-python",
   "name": "python",
   "nbconvert_exporter": "python",
   "pygments_lexer": "ipython3",
   "version": "3.12.7"
  }
 },
 "nbformat": 4,
 "nbformat_minor": 4
}
